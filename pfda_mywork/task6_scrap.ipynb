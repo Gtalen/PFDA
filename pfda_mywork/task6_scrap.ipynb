{
 "cells": [
  {
   "cell_type": "code",
   "execution_count": null,
   "metadata": {
    "vscode": {
     "languageId": "plaintext"
    }
   },
   "outputs": [],
   "source": [
    "# Replace empty strings with NaN\n",
    "df.replace('', np.nan, inplace=True)\n"
   ]
  },
  {
   "cell_type": "code",
   "execution_count": null,
   "metadata": {
    "vscode": {
     "languageId": "plaintext"
    }
   },
   "outputs": [],
   "source": [
    "# replacing the empty string values with NAN\n",
    "df['wdsp_NAN']= df['wdsp'].replace('', np.nan, inplace=True)"
   ]
  },
  {
   "cell_type": "code",
   "execution_count": null,
   "metadata": {
    "vscode": {
     "languageId": "plaintext"
    }
   },
   "outputs": [],
   "source": [
    "# Time plot of temperature\n",
    "plt.figure(figsize=(7, 10)) \n",
    "plt.plot(df['temp'])\n",
    "plt.xlabel('Date') \n",
    "plt.ylabel('Air Temperature (°C)') \n",
    "plt.title('Air Temperature Time Plot Overtime (1996 - 2024)') \n",
    "plt.grid(True) \n",
    "plt.show() \n"
   ]
  },
  {
   "cell_type": "code",
   "execution_count": null,
   "metadata": {
    "vscode": {
     "languageId": "plaintext"
    }
   },
   "outputs": [],
   "source": [
    "# Time plot of temperature\n",
    "plt.figure(figsize=(7, 5)) \n",
    "sns.lineplot(data=df, x='date', y='temp')\n",
    "plt.xlabel('Date') \n",
    "plt.ylabel('Air Temperature (C)\t') \n",
    "plt.title('Air Temperature Time Plot of 1996 - 2024') \n",
    "plt.grid(True) \n",
    "plt.show() \n"
   ]
  },
  {
   "cell_type": "code",
   "execution_count": null,
   "metadata": {
    "vscode": {
     "languageId": "plaintext"
    }
   },
   "outputs": [],
   "source": [
    "# Dropping the rows with missing values in the windspeed column\n",
    "#df_clean['wdsp'].dropna(inplace=True)"
   ]
  },
  {
   "cell_type": "code",
   "execution_count": null,
   "metadata": {
    "vscode": {
     "languageId": "plaintext"
    }
   },
   "outputs": [],
   "source": []
  },
  {
   "cell_type": "code",
   "execution_count": null,
   "metadata": {
    "vscode": {
     "languageId": "plaintext"
    }
   },
   "outputs": [],
   "source": []
  }
 ],
 "metadata": {
  "language_info": {
   "name": "python"
  }
 },
 "nbformat": 4,
 "nbformat_minor": 2
}
