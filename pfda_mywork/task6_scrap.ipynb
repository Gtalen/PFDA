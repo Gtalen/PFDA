{
 "cells": [
  {
   "cell_type": "code",
   "execution_count": null,
   "metadata": {
    "vscode": {
     "languageId": "plaintext"
    }
   },
   "outputs": [],
   "source": [
    "# Replace empty strings with NaN\n",
    "df.replace('', np.nan, inplace=True)\n"
   ]
  },
  {
   "cell_type": "code",
   "execution_count": null,
   "metadata": {
    "vscode": {
     "languageId": "plaintext"
    }
   },
   "outputs": [],
   "source": [
    "# replacing the empty string values with NAN\n",
    "df['wdsp_NAN']= df['wdsp'].replace('', np.nan, inplace=True)"
   ]
  },
  {
   "cell_type": "code",
   "execution_count": null,
   "metadata": {
    "vscode": {
     "languageId": "plaintext"
    }
   },
   "outputs": [],
   "source": [
    "# Time plot of temperature\n",
    "plt.figure(figsize=(7, 10)) \n",
    "plt.plot(df['temp'])\n",
    "plt.xlabel('Date') \n",
    "plt.ylabel('Air Temperature (°C)') \n",
    "plt.title('Air Temperature Time Plot Overtime (1996 - 2024)') \n",
    "plt.grid(True) \n",
    "plt.show() \n"
   ]
  },
  {
   "cell_type": "code",
   "execution_count": null,
   "metadata": {
    "vscode": {
     "languageId": "plaintext"
    }
   },
   "outputs": [],
   "source": [
    "# Time plot of temperature\n",
    "plt.figure(figsize=(7, 5)) \n",
    "sns.lineplot(data=df, x='date', y='temp')\n",
    "plt.xlabel('Date') \n",
    "plt.ylabel('Air Temperature (C)\t') \n",
    "plt.title('Air Temperature Time Plot of 1996 - 2024') \n",
    "plt.grid(True) \n",
    "plt.show() \n"
   ]
  },
  {
   "cell_type": "code",
   "execution_count": null,
   "metadata": {
    "vscode": {
     "languageId": "plaintext"
    }
   },
   "outputs": [],
   "source": [
    "# Dropping the rows with missing values in the windspeed column\n",
    "#df_clean['wdsp'].dropna(inplace=True)"
   ]
  },
  {
   "cell_type": "code",
   "execution_count": null,
   "metadata": {
    "vscode": {
     "languageId": "plaintext"
    }
   },
   "outputs": [],
   "source": [
    "# Using pandas timeseries resampling to get the daily mean temperature\n",
    "daily_mean_temp = df_clean['temp'].resample('D').mean()\n",
    "daily_mean_temp "
   ]
  },
  {
   "cell_type": "code",
   "execution_count": null,
   "metadata": {
    "vscode": {
     "languageId": "plaintext"
    }
   },
   "outputs": [],
   "source": [
    "plt.figure(figsize=(12, 6))\n",
    "monthly_max_wdsp.plot(kind='bar', color='teal')\n",
    "plt.title('Monthly Mean of Daily Max Windspeeds')\n",
    "plt.xlabel('Month')\n",
    "plt.ylabel('Windspeed (knots)')\n",
    "plt.show()"
   ]
  },
  {
   "cell_type": "code",
   "execution_count": null,
   "metadata": {
    "vscode": {
     "languageId": "plaintext"
    }
   },
   "outputs": [],
   "source": [
    "# Plotting the Mean Wind Speed (knot)\n",
    "plt.figure(figsize=(12, 6))\n",
    "plt.plot(df_clean['wdsp'], label='Windspeed', color='lightseagreen')\n",
    "plt.title('Windspeed Time Plot (1996 - 2024)') \n",
    "plt.xlabel('Date')\n",
    "plt.ylabel('Windspeed (knots)')\n",
    "plt.legend()\n",
    "plt.show()\n"
   ]
  },
  {
   "cell_type": "code",
   "execution_count": null,
   "metadata": {
    "vscode": {
     "languageId": "plaintext"
    }
   },
   "outputs": [],
   "source": [
    "# Checking the sum of missing values in the windspeed column\n",
    "df_clean['wdsp'].isnull().sum()"
   ]
  },
  {
   "cell_type": "code",
   "execution_count": null,
   "metadata": {
    "vscode": {
     "languageId": "plaintext"
    }
   },
   "outputs": [],
   "source": [
    "# Convert the date column to datetime as the original dataframe for the date is of type object\n",
    "# Format with strftime\n",
    "df_clean['date'] = pd.to_datetime(df_clean['date']).dt.strftime('%Y-%m-%d %H:%M:%S')\n",
    "\n",
    "\n"
   ]
  },
  {
   "cell_type": "code",
   "execution_count": null,
   "metadata": {
    "vscode": {
     "languageId": "plaintext"
    }
   },
   "outputs": [],
   "source": [
    "df_clean['date'].loc['01/08/1996 22:00']"
   ]
  }
 ],
 "metadata": {
  "language_info": {
   "name": "python"
  }
 },
 "nbformat": 4,
 "nbformat_minor": 2
}
