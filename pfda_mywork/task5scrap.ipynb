{
 "cells": [
  {
   "cell_type": "code",
   "execution_count": null,
   "metadata": {
    "vscode": {
     "languageId": "plaintext"
    }
   },
   "outputs": [],
   "source": [
    "# Plot a pie chart\n",
    "labels = ['Attacker loss', 'Defender loss']\n",
    "sizes = [attacker_losses, defender_losses]\n",
    "#colors = ['#ff9999','#66b3ff']  # Light red for attacker, light blue for defender\n",
    "\n",
    "# Plotting the pie chart\n",
    "plt.figure(figsize=(7, 7))\n",
    "plt.pie(sizes, labels=labels, autopct='%1.1f%%', startangle=140, colors=colors)\n",
    "plt.title(f\"Losses in {n_round} Rounds of Risk Game\", fontweight = 'semibold')\n",
    "plt.axis('equal')  # Equal aspect ratio ensures that pie chart is drawn as a circle.\n",
    "plt.show()"
   ]
  },
  {
   "cell_type": "code",
   "execution_count": null,
   "metadata": {
    "vscode": {
     "languageId": "plaintext"
    }
   },
   "outputs": [],
   "source": [
    "# Defining a function for 6-sided dice round Risk Game\n",
    "def dice_round(n_round):\n",
    "    # Simulating risk game play using numpy random numbers generator for a 6-sided dice roll per attack \n",
    "    attacker_dice = np.random.randint(1, 7, (n_round, 3))  # attacker rolls 3 dice per round\n",
    "    defender_dice = np.random.randint(1, 7, (n_round, 2))  # defender rolls 2 dice per round\n",
    "\n",
    "\n",
    "# Simulate multiple rounds of Risk until one side is eliminated\n",
    "def multiple_battle_elimination(attacker_troops, defender_troops):\n",
    "    while attacker_troops > 0 and defender_troops > 0: # track troop losses\n",
    "        # Generate dice rolls\n",
    "        attacker_dice = np.random.randint(1, 7, min(3, attacker_troops))\n",
    "        defender_dice = np.random.randint(1, 7, min(2, defender_troops))\n",
    "        \n",
    "        # Simulate a single round of battle\n",
    "        attacker_loss, defender_loss = dice_round(attacker_dice, defender_dice)\n",
    "        \n",
    "        # Update remaining troops\n",
    "        attacker_troops -= attacker_loss\n",
    "        defender_troops -= defender_loss\n",
    "\n",
    "         # Simulate a single round of battle\n",
    "        attacker_loss, defender_loss = dice_round(attacker_dice, defender_dice)\n",
    "        \n",
    "        # Update remaining troops\n",
    "        attacker_troops -= attacker_loss\n",
    "        defender_troops -= defender_loss\n",
    "        \n",
    "        # Log the round's data\n",
    "        results.append({'round': len(results) + 1, 'attacker_troops': attacker_troops, 'defender_troops': defender_troops})\n",
    "    \n",
    "    # Convert results to a DataFrame\n",
    "    df_results = pd.DataFrame(results)\n",
    "    \n",
    "    # Plot the results\n",
    "    plt.plot(df_results['round'], df_results['attacker_troops'], label='Attacker Troops')\n",
    "    plt.plot(df_results['round'], df_results['defender_troops'], label='Defender Troops')\n",
    "    plt.xlabel('Round')\n",
    "    plt.ylabel('Remaining Troops')\n",
    "    plt.legend()\n",
    "    plt.title('Risk Battle Simulation')\n",
    "    plt.show()\n"
   ]
  },
  {
   "cell_type": "code",
   "execution_count": null,
   "metadata": {
    "vscode": {
     "languageId": "plaintext"
    }
   },
   "outputs": [],
   "source": [
    "#### Risk Board game multiple battle simulation\n",
    "A more complicated version simulates a full series of rounds for armies of arbitrary sizes, until one side is wiped out,\n",
    "\n",
    "and plots the results."
   ]
  },
  {
   "cell_type": "code",
   "execution_count": null,
   "metadata": {
    "vscode": {
     "languageId": "plaintext"
    }
   },
   "outputs": [],
   "source": []
  },
  {
   "cell_type": "code",
   "execution_count": null,
   "metadata": {
    "vscode": {
     "languageId": "plaintext"
    }
   },
   "outputs": [],
   "source": []
  },
  {
   "cell_type": "code",
   "execution_count": null,
   "metadata": {
    "vscode": {
     "languageId": "plaintext"
    }
   },
   "outputs": [],
   "source": []
  }
 ],
 "metadata": {
  "language_info": {
   "name": "python"
  }
 },
 "nbformat": 4,
 "nbformat_minor": 2
}
