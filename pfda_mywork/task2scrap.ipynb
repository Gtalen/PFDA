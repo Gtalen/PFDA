{
 "cells": [
  {
   "cell_type": "code",
   "execution_count": null,
   "metadata": {
    "vscode": {
     "languageId": "plaintext"
    }
   },
   "outputs": [],
   "source": [
    "# Cformatting the report start datetime to show only the month and year\n",
    "df['formatted_reportStartDateTime'] = df['reportStartDateTime'].dt.strftime('%m-%d %H:%M')\n",
    "df['formatted_reportStartDateTime'].tail(3)\n"
   ]
  },
  {
   "cell_type": "code",
   "execution_count": null,
   "metadata": {
    "vscode": {
     "languageId": "plaintext"
    }
   },
   "outputs": [],
   "source": [
    "# Cformatting the report end datetime to show only the month and year\n",
    "df['formatted_reportEndDateTime'] = df['reportEndDateTime'].dt.strftime('%m-%d %H:%M')\n",
    "df['formatted_reportEndDateTime'].tail(3)\n"
   ]
  },
  {
   "cell_type": "code",
   "execution_count": null,
   "metadata": {
    "vscode": {
     "languageId": "plaintext"
    }
   },
   "outputs": [],
   "source": [
    "plt.plot(df.dryBulbTemperature_Celsius)\n",
    "# Adding labels and title\n",
    "plt.title('Temperature Over Time')\n",
    "plt.ylabel('Temperature (°C)')\n",
    "plt.show()"
   ]
  },
  {
   "cell_type": "code",
   "execution_count": null,
   "metadata": {
    "vscode": {
     "languageId": "plaintext"
    }
   },
   "outputs": [],
   "source": [
    "# Checking is matplotlib is in interactive mode\n",
    "plt.isinteractive()"
   ]
  },
  {
   "cell_type": "code",
   "execution_count": null,
   "metadata": {
    "vscode": {
     "languageId": "plaintext"
    }
   },
   "outputs": [],
   "source": [
    "import csv\n",
    "\n",
    "# Filepath\n",
    "filepath = r\"C:\\Users\\great\\Desktop\\ATU\\Semester 2\\PFDA-courseware\\assignment\\weatherreadings1.csv\"\n",
    "\n",
    "# Open and read the CSV file\n",
    "with open(filepath, \"r\") as weather:\n",
    "    wd = csv.reader(weather, delimiter=\",\", quoting=csv.QUOTE_NONE)\n",
    "    \n",
    "    # Iterate through each line in the CSV reader\n",
    "    for line in wd:\n",
    "        print(line)\n"
   ]
  },
  {
   "cell_type": "code",
   "execution_count": null,
   "metadata": {
    "vscode": {
     "languageId": "plaintext"
    }
   },
   "outputs": [],
   "source": [
    "# Importing the weather data file\n",
    "filepath = r\"C:\\Users\\great\\Desktop\\ATU\\Semester 2\\PFDA-courseware\\assignment\\weatherreadings1.csv\"\n",
    "\n",
    "# Opening and reading the csv file\n",
    "with open(filepath, \"r\") as weather:\n",
    "    wd = csv.reader(weather, delimiter=\",\", quoting = csv.QUOTE_NONE)\n",
    "\n",
    "    # Printing all te lines in the file\n",
    "    #for line in wd:\n",
    "        #print (line)\n",
    "\n",
    "\n",
    "plt.plot(df['reportStartDateTime'], df['dryBulbTemperature_Celsius'])\n",
    "plt.show()"
   ]
  },
  {
   "cell_type": "code",
   "execution_count": null,
   "metadata": {
    "vscode": {
     "languageId": "plaintext"
    }
   },
   "outputs": [],
   "source": [
    "# Plot of temperature over time in Oct 2024\n",
    "\n",
    "plt.plot(df['reportStartDateTime'], df['dryBulbTemperature_Celsius'], marker='*', color='red', label= 'Start time')\n",
    "plt.plot(df['reportEndDateTime'], df['dryBulbTemperature_Celsius'], marker='o', color = 'purple', label='End time')\n",
    "\n",
    "# Adding labels and title\n",
    "plt.title('Temperature Time plot in Oct 2024', fontweight = 'semibold')\n",
    "plt.xlabel('DateTime')\n",
    "plt.ylabel('Temperature (°C)')\n",
    "\n",
    "# Format x-axis to display both date and time\n",
    "plt.gca().xaxis.set_major_formatter(mdates.DateFormatter('%m-%d %H:%M'))\n",
    "\n",
    "# Set tick placement to every 2 hours\n",
    "plt.gca().xaxis.set_major_locator(mdates.HourLocator(interval=2))\n",
    "\n",
    "# Format the x-axis for easy readability\n",
    "plt.xticks(rotation=45)\n",
    "plt.grid(True)\n",
    "\n",
    "# Display the plot\n",
    "plt.tight_layout()\n",
    "plt.show()\n"
   ]
  },
  {
   "cell_type": "code",
   "execution_count": null,
   "metadata": {
    "vscode": {
     "languageId": "plaintext"
    }
   },
   "outputs": [],
   "source": [
    "# Plot of temperature over time in Oct 2024\n",
    "\n",
    "plt.plot(df['reportStartDateTime'], df['dryBulbTemperature_Celsius'], marker='*', color='red', label= 'Start time')\n",
    "plt.plot(df['reportEndDateTime'], df['dryBulbTemperature_Celsius'], marker='o', color = 'purple', label='End time')\n",
    "\n",
    "# Adding labels and title\n",
    "plt.title('Temperature Time plot in Oct 2024', fontweight = 'semibold')\n",
    "plt.xlabel('DateTime')\n",
    "plt.ylabel('Temperature (°C)')\n",
    "\n",
    "# Format x-axis to display both date and time\n",
    "plt.gca().xaxis.set_major_formatter(mdates.DateFormatter('%m-%d %H:%M'))\n",
    "\n",
    "# Set tick placement to every 2 hours\n",
    "plt.gca().xaxis.set_major_locator(mdates.HourLocator(interval=2))\n",
    "\n",
    "# Format the x-axis for easy readability\n",
    "plt.xticks(rotation=45)\n",
    "plt.grid(True)\n",
    "\n",
    "# Display the plot\n",
    "plt.tight_layout()\n",
    "plt.show()\n"
   ]
  }
 ],
 "metadata": {
  "language_info": {
   "name": "python"
  }
 },
 "nbformat": 4,
 "nbformat_minor": 2
}
