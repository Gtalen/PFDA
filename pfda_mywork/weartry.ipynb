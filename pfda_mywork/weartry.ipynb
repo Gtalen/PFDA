{
 "cells": [
  {
   "cell_type": "code",
   "execution_count": 6,
   "metadata": {},
   "outputs": [],
   "source": [
    "import numpy as np\n",
    "import pandas as pd"
   ]
  },
  {
   "cell_type": "code",
   "execution_count": 7,
   "metadata": {},
   "outputs": [
    {
     "name": "stdout",
     "output_type": "stream",
     "text": [
      "Time-series data saved successfully!\n",
      "   patient_id                       date  step_count\n",
      "0           1 2025-01-10 06:35:14.141115       11244\n",
      "1           1 2025-01-09 06:35:14.141115        9986\n",
      "2           1 2025-01-08 06:35:14.141115        8796\n",
      "3           1 2025-01-07 06:35:14.141115       10355\n",
      "4           1 2025-01-06 06:35:14.141115       11183\n"
     ]
    }
   ],
   "source": [
    "\n",
    "def generate_step_count(df, num_days=30):\n",
    "    np.random.seed(42)  # Ensuring reproducibility\n",
    "    time_series_data = []\n",
    "    today = pd.Timestamp.today()  # Avoid repeated function calls\n",
    "\n",
    "    for _, row in df.iterrows():\n",
    "        patient_id = row[\"patient_id\"]\n",
    "\n",
    "        for day in range(1, num_days + 1):\n",
    "            # Baseline Steps by Age\n",
    "            if row['age'] < 18:\n",
    "                base_steps = np.random.normal(12000, 2000)\n",
    "            elif row['age'] < 40:\n",
    "                base_steps = np.random.normal(10000, 1500)\n",
    "            elif row['age'] < 60:\n",
    "                base_steps = np.random.normal(8000, 1200)\n",
    "            else:\n",
    "                base_steps = np.random.normal(6000, 1000)\n",
    "\n",
    "            # Adjust for BMI\n",
    "            if row['bmi'] >= 35:\n",
    "                base_steps *= np.random.uniform(0.5, 0.7)\n",
    "            elif row['bmi'] >= 30:\n",
    "                base_steps *= np.random.uniform(0.7, 0.85)\n",
    "            elif row['bmi'] >= 25:\n",
    "                base_steps *= np.random.uniform(0.85, 0.95)\n",
    "\n",
    "            # Adjust for Hypertension\n",
    "            if row['hypertension'] == 1:\n",
    "                base_steps *= np.random.uniform(0.75, 0.9)\n",
    "\n",
    "            # Adjust for Stroke\n",
    "            if row['stroke'] == 1:\n",
    "                base_steps *= np.random.uniform(0.3, 0.5)\n",
    "\n",
    "            # Daily Variability\n",
    "            base_steps *= np.random.uniform(0.9, 1.1)\n",
    "\n",
    "            # Ensure step count is within realistic bounds\n",
    "            step_count = round(max(500, min(base_steps, 14000)))\n",
    "\n",
    "            # Append to list\n",
    "            time_series_data.append({\n",
    "                \"patient_id\": patient_id,\n",
    "                \"date\": today - pd.DateOffset(days=day),\n",
    "                \"step_count\": step_count\n",
    "            })\n",
    "\n",
    "    return pd.DataFrame(time_series_data)\n",
    "\n",
    "# Example usage\n",
    "health_data = pd.DataFrame({\n",
    "    \"patient_id\": [1, 2, 3],\n",
    "    \"age\": [25, 45, 65],\n",
    "    \"bmi\": [22, 32, 37],\n",
    "    \"hypertension\": [0, 1, 1],\n",
    "    \"stroke\": [0, 0, 1]\n",
    "})\n",
    "\n",
    "# Generate time-series step count data\n",
    "time_series_df = generate_step_count(health_data, num_days=30)\n",
    "\n",
    "# Save the time-series data separately\n",
    "time_series_df.to_csv(\"time_series_wearable_data.csv\", index=False)\n",
    "\n",
    "# Preview the saved data\n",
    "print(\"Time-series data saved successfully!\")\n",
    "print(time_series_df.head())\n"
   ]
  },
  {
   "cell_type": "code",
   "execution_count": 8,
   "metadata": {},
   "outputs": [
    {
     "name": "stdout",
     "output_type": "stream",
     "text": [
      "Time-series data saved successfully!\n",
      "   patient_id                       date  step_count\n",
      "0           1 2025-01-10 06:35:14.174427       11244\n",
      "1           1 2025-01-09 06:35:14.174427        9986\n",
      "2           1 2025-01-08 06:35:14.174427        8796\n",
      "3           1 2025-01-07 06:35:14.174427       10355\n",
      "4           1 2025-01-06 06:35:14.174427       11183\n"
     ]
    }
   ],
   "source": [
    "# Generate time-series step count data (for 30 days)\n",
    "time_series_df = generate_step_count(health_data, num_days=30)\n",
    "\n",
    "# Save the time-series data separately\n",
    "time_series_df.to_csv(\"time_series_wearable_data.csv\", index=False)\n",
    "\n",
    "# Preview the saved data\n",
    "print(\"Time-series data saved successfully!\")\n",
    "print(time_series_df.head())"
   ]
  },
  {
   "cell_type": "code",
   "execution_count": null,
   "metadata": {},
   "outputs": [],
   "source": [
    "sns.histplot(df['bmi'])"
   ]
  },
  {
   "cell_type": "code",
   "execution_count": null,
   "metadata": {},
   "outputs": [],
   "source": [
    "# Create a histogram for the columns with BMI NAN\n",
    "# Create Subplots\n",
    "fig, axs = plt.subplots(2, 3, figsize=(15, 9))\n",
    "\n",
    "# Add a title for the histogram\n",
    "fig.suptitle('Countplot for the healthcare dataset categorical variable', fontsize=16)\n",
    "\n",
    "# Plot the histogram\n",
    "sns.histplot(data=df,kde=True, x=\"bmi\", color=\"skyblue\", ax=axs[0, 0])\n",
    "sns.histplot(data=df,kde=True, x=\"avg_glucose_level\", color=\"olive\", ax=axs[0, 1])\n",
    "sns.histplot(data=df,kde=True, x=\"hypertension\", color=\"gold\", ax=axs[0, 2])\n",
    "sns.histplot(data=df,kde=True, x=\"heart_disease\", color=\"teal\", ax=axs[1, 0])\n",
    "sns.histplot(data=df,kde=True, x=\"stroke\", color=\"brown\", ax=axs[1, 1])\n",
    "sns.histplot(data=df,kde=True, x=\"age\", color=\"orange\", ax=axs[1, 2])\n",
    "#plt.xticks(rotation=45)\n",
    "# Adjust Layout\n",
    "plt.tight_layout()\n",
    "plt.show()"
   ]
  },
  {
   "cell_type": "code",
   "execution_count": null,
   "metadata": {},
   "outputs": [],
   "source": [
    "# Create a histogram for the categorical variable\n",
    "# Create Subplots\n",
    "fig, axs = plt.subplots(2, 3, figsize=(15, 9))\n",
    "\n",
    "# Add a title for the histogram\n",
    "fig.suptitle('Countplot for the healthcare dataset categorical variable', fontsize=16)\n",
    "\n",
    "# Plot the histogram\n",
    "sns.countplot(data=df, x=\"gender\", color=\"skyblue\", ax=axs[0, 0])\n",
    "sns.countplot(data=df, x=\"ever_married\", color=\"olive\", ax=axs[0, 1])\n",
    "sns.countplot(data=df, x=\"work_type\", color=\"gold\", ax=axs[0, 2])\n",
    "sns.countplot(data=df, x=\"Residence_type\", color=\"teal\", ax=axs[1, 0])\n",
    "sns.countplot(data=df, x=\"smoking_status\", color=\"brown\", ax=axs[1, 1])\n",
    "sns.histplot(data=df, x=\"bmi\", color=\"orange\", ax=axs[1, 2])\n",
    "#plt.xticks(rotation=45)\n",
    "# Adjust Layout\n",
    "plt.tight_layout()\n",
    "plt.show()"
   ]
  },
  {
   "cell_type": "code",
   "execution_count": null,
   "metadata": {},
   "outputs": [],
   "source": [
    "# Create a histogram for the categorical variable\n",
    "# Create Subplots\n",
    "fig, axs = plt.subplots(2, 3, figsize=(15, 9))\n",
    "\n",
    "# Add a title for the histogram\n",
    "fig.suptitle('Countplot for the healthcare dataset categorical variable', fontsize=16)\n",
    "\n",
    "# Plot the histogram\n",
    "sns.countplot(data=df, x=\"gender\", hue=\"stroke\", ax=axs[0, 0])\n",
    "sns.countplot(data=df, x=\"ever_married\", hue=\"stroke\", ax=axs[0, 1])\n",
    "sns.countplot(data=df, x=\"work_type\", hue=\"stroke\", ax=axs[0, 2])\n",
    "sns.countplot(data=df, x=\"Residence_type\", hue=\"stroke\", ax=axs[1, 0])\n",
    "sns.countplot(data=df, x=\"smoking_status\", hue=\"stroke\", ax=axs[1, 1])\n",
    "sns.histplot(data=df, x=\"bmi\", color=\"orange\", ax=axs[1, 2])\n",
    "#plt.xticks(rotation=45)\n",
    "# Adjust Layout\n",
    "plt.tight_layout()\n",
    "plt.show()"
   ]
  },
  {
   "cell_type": "code",
   "execution_count": null,
   "metadata": {},
   "outputs": [],
   "source": [
    "### Dealing with outliers\n",
    "- Boxplot"
   ]
  },
  {
   "cell_type": "code",
   "execution_count": null,
   "metadata": {},
   "outputs": [],
   "source": [
    "sns.boxplot(data=df,x='stroke',y='age')"
   ]
  },
  {
   "cell_type": "code",
   "execution_count": null,
   "metadata": {},
   "outputs": [],
   "source": [
    "### Relationship between age and stroke"
   ]
  },
  {
   "cell_type": "code",
   "execution_count": null,
   "metadata": {},
   "outputs": [],
   "source": [
    "df.loc[19] "
   ]
  },
  {
   "cell_type": "code",
   "execution_count": null,
   "metadata": {},
   "outputs": [],
   "source": [
    "# Create a histogram for the columns with BMI NAN\n",
    "# Create Subplots\n",
    "fig, axs = plt.subplots(2, 3, figsize=(15, 9))\n",
    "\n",
    "# Add a title for the histogram\n",
    "fig.suptitle('Countplot for the healthcare dataset categorical variable', fontsize=16)\n",
    "\n",
    "# Plot the histogram\n",
    "sns.histplot(data=null_data,kde=True, x=\"bmi\", color=\"skyblue\", ax=axs[0, 0])\n",
    "sns.histplot(data=null_data,kde=True, x=\"avg_glucose_level\", color=\"olive\", ax=axs[0, 1])\n",
    "sns.histplot(data=null_data,kde=True, x=\"hypertension\", color=\"gold\", ax=axs[0, 2])\n",
    "sns.histplot(data=null_data,kde=True, x=\"heart_disease\", color=\"teal\", ax=axs[1, 0])\n",
    "sns.histplot(data=null_data,kde=True, x=\"stroke\", color=\"brown\", ax=axs[1, 1])\n",
    "sns.histplot(data=null_data,kde=True, x=\"age\", color=\"orange\", ax=axs[1, 2])\n",
    "#plt.xticks(rotation=45)\n",
    "# Adjust Layout\n",
    "plt.tight_layout()\n",
    "plt.show()"
   ]
  },
  {
   "cell_type": "code",
   "execution_count": null,
   "metadata": {},
   "outputs": [],
   "source": []
  }
 ],
 "metadata": {
  "kernelspec": {
   "display_name": "Python 3",
   "language": "python",
   "name": "python3"
  },
  "language_info": {
   "codemirror_mode": {
    "name": "ipython",
    "version": 3
   },
   "file_extension": ".py",
   "mimetype": "text/x-python",
   "name": "python",
   "nbconvert_exporter": "python",
   "pygments_lexer": "ipython3",
   "version": "3.11.5"
  }
 },
 "nbformat": 4,
 "nbformat_minor": 2
}
