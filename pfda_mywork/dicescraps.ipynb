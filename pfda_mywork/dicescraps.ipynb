{
 "cells": [
  {
   "cell_type": "code",
   "execution_count": null,
   "metadata": {
    "vscode": {
     "languageId": "plaintext"
    }
   },
   "outputs": [],
   "source": [
    "# Defining a function for 6-sided dice round Risk Game\n",
    "def dice_round(n_round):\n",
    "\n",
    "   # simulating risk game play using numpy random numbers generator with  a 6-sided dice round per attack \n",
    "   attacker = np.random.randint(1, 7, (n_round, 3))  # number of battle rounds, attacker round 3 dice per attack\n",
    "   defender = np.random.randint(1, 7, (n_round, 2))  # number of battle rounds, defender round 2 dice dice per attack\n",
    "   #Sort the round in descending order\n",
    "   attacker_sorted = np.sort(attacker, axis=1)[:, ::-1]\n",
    "   defender_sorted = np.sort(defender, axis=1)[:, ::-1]\n",
    "   # Determine loss per round for attacker and defender\n",
    "   attacker_losses = 0\n",
    "   defender_losses = 0\n",
    "\n",
    "   # Creating a list to track the losses per round\n",
    "   attacker_losses_cumulative = []\n",
    "   defender_losses_cumulative = []\n",
    "\n",
    "\n",
    "   # Loop through each round\n",
    "   for i in range(n_round):\n",
    "   # Compare the highest dice roll\n",
    "    if attacker_sorted[i, 0] <= defender_sorted[i, 0]:\n",
    "       attacker_losses += 1\n",
    "    else:\n",
    "       defender_losses += 1\n",
    "   \n",
    "   # Compare the second-highest dice roll\n",
    "    \n",
    "    if attacker_sorted[i, 1] <= defender_sorted[i, 1]:\n",
    "       attacker_losses += 1\n",
    "    else:\n",
    "       defender_losses += 1\n",
    "   return attacker_losses, defender_losses\n",
    "\n",
    "    #Record the losses per round\n",
    "   attacker_losses_cumulative.append(attacker_losses)\n",
    "   defender_losses_cumulative.append(defender_losses)\n",
    "      return attacker_losses_cumulative, defender_losses_cumulative\n",
    "\n",
    "# Call the dice_round function\n",
    "attacker_losses, defender_losses = dice_round(n_round)\n",
    "\n",
    "\n",
    "print(f\"The total number of attacker losses for 2 dice round in {n_round} rounds is: {attacker_losses}\")\n",
    "print(f\"The total number of defender losses for 2 dice round in {n_round} rounds is: {defender_losses}\")\n",
    "\n",
    "    \n",
    "\n"
   ]
  },
  {
   "cell_type": "code",
   "execution_count": null,
   "metadata": {
    "vscode": {
     "languageId": "plaintext"
    }
   },
   "outputs": [],
   "source": [
    "\n",
    "\n",
    "\n",
    "# Defining a function for 6-sided dice round per attack\n",
    "def dice_round():\n",
    "    attacker = np.random.randint(1, 7, 3)  # Attacker round 3 dice\n",
    "    defender = np.random.randint(1, 7, 2)  # Defender round 2 dice\n",
    "    \n",
    "    # Sort the round in descending order\n",
    "    attacker_sorted = np.sort(attacker)[::-1]\n",
    "    defender_sorted = np.sort(defender)[::-1]\n",
    "    \n",
    "    return attacker_sorted, defender_sorted"
   ]
  },
  {
   "cell_type": "code",
   "execution_count": null,
   "metadata": {
    "vscode": {
     "languageId": "plaintext"
    }
   },
   "outputs": [],
   "source": [
    "\n",
    "def dice_round():\n",
    "    attacker = np.random.randint(1, 7, 3) # generates a random integer in the range of 1 to 6, attacker round 3 times\n",
    "    defender = np.random.randint(1, 7, 2) # generates a random integer in the range of 1 to 6, defender round 2 times\n",
    "    attacker_sorted = sorted(attacker, reverse=True)  # reverse=true converts this to a python slicing function\n",
    "    defender_sorted = sorted(defender, reverse=True)\n",
    "    return attacker_sorted, defender_sorted\n",
    "sorted_desc = np.sort(arr)[::-1] \n",
    "\n"
   ]
  },
  {
   "cell_type": "code",
   "execution_count": null,
   "metadata": {
    "vscode": {
     "languageId": "plaintext"
    }
   },
   "outputs": [],
   "source": [
    "# Plotting the attacker losses vs defender losses through the rounds\n",
    "\n",
    "plt.figure(figsize=(10, 6))\n",
    "sns.histplot(attacker_losses_cumulative, label=\"Attacker Losses\")\n",
    "sns.histplot(defender_losses_cumulative, label=\"Defender Losses\")\n",
    "plt.xlabel(\"Rounds\")\n",
    "plt.ylabel(\"Cumulative Losses\")\n",
    "plt.title(f\"Cumulative Losses for {n_round} Rounds\")\n",
    "plt.legend()\n",
    "plt.grid(True)"
   ]
  },
  {
   "cell_type": "code",
   "execution_count": null,
   "metadata": {
    "vscode": {
     "languageId": "plaintext"
    }
   },
   "outputs": [],
   "source": []
  },
  {
   "cell_type": "code",
   "execution_count": null,
   "metadata": {
    "vscode": {
     "languageId": "plaintext"
    }
   },
   "outputs": [],
   "source": []
  },
  {
   "cell_type": "markdown",
   "metadata": {},
   "source": []
  }
 ],
 "metadata": {
  "language_info": {
   "name": "python"
  }
 },
 "nbformat": 4,
 "nbformat_minor": 2
}
