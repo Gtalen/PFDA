{
 "cells": [
  {
   "cell_type": "code",
   "execution_count": 58,
   "metadata": {},
   "outputs": [],
   "source": [
    "# Importing the necessary libraries\n",
    "import numpy as np\n",
    "import matplotlib.pyplot as plt\n",
    "import seaborn as sns\n",
    "import warnings    # importing python warning module\n",
    "sns.set_theme()            #setting seaborn as default style for plots when using matplotlib"
   ]
  },
  {
   "cell_type": "markdown",
   "metadata": {},
   "source": [
    "# Assignment 5 \n",
    "## Risk\n",
    "\n",
    "Write a program (or notebook) called assignment_5_risk (.py or .ipynb)\n",
    "\n",
    "The program should simulates 1000 individual battle rounds in Risk (3 attacker vs 2 defender) and plots the result.\n",
    "\n",
    "One battle round is one shake of the attacker and defender dice.\n",
    "\n",
    "I am being vague about what it plot, I will leave that to you.\n",
    "\n",
    "For the last few marks.\n",
    "\n",
    "A more complicated version simulates a full series of rounds for armies of arbitrary sizes, until one side is wiped out,\n",
    "\n",
    "and plots the results.\n",
    "\n",
    "(This is open ended, so it is only for the last few marks)"
   ]
  },
  {
   "cell_type": "markdown",
   "metadata": {
    "vscode": {
     "languageId": "plaintext"
    }
   },
   "source": [
    "## Risk Strategy notes\n",
    "- Mission: To conquer all the territories\n",
    "- Players: Army A (Attacker) vs Army B\n",
    "- Dice: 6 sided dice\n",
    "- One round: Attacker round the dice 3 times and the defender round the dice 2 times.\n",
    "- Dice compared per round: \n",
    "  - Total dice rolled (5): Sum of attacker (3) vs defenders (2) dice rolled\n",
    "   - Sort all 5 dice rolled from highest to lowest (descending order)\n",
    "   - Compare attackers highest 2 dice round vs defenders 2 dice round\n",
    "- Winning Rules:\n",
    " 1. Compare the highest dice first and determine winner for the first dice;\n",
    "   - Attacker loses one troop when each dice roll is ≤ defenders dice roll. \n",
    "   - Defender loses one troop when attackers dice roll is > defenders\n",
    " 2. Compare the second highest dice next and determine winner for the second dice: \n",
    "  - Attacker loses one troop when each dice roll is ≤ defenders dice roll. \n",
    "  - Defender loses one troop when attackers dice roll is > defenders\n",
    "= Task: Simulate 1000 individual battle rounds in Risk (3 attacker vs 2 defender) and plot the result.\n",
    "\n",
    "         \n",
    "\n"
   ]
  },
  {
   "cell_type": "markdown",
   "metadata": {},
   "source": [
    "## Simulating the risk game battle approach\n",
    "A combination of codes and functions were utilized to handle this task and the steps involved in building up this function are in the cells below. This approach was used to offer simplicity and easy debugging of the codes when run in simpler blocks before integrating all into a function. The aricle by Stephen Gruppetta on using Python’s NumPy To Improve Your Board Game Strategy: Your Odds When Attacking in ‘Risk’ was very helpful in tackling this assignment and it can be found [here](https://thepythoncodingbook.com/2022/12/30/using-python-numpy-to-improve-board-game-strategy-risk/)"
   ]
  },
  {
   "cell_type": "code",
   "execution_count": 59,
   "metadata": {},
   "outputs": [],
   "source": [
    "# Define the number of battle rounds\n",
    "n_round = 1000 # 1000 battle rounds"
   ]
  },
  {
   "cell_type": "code",
   "execution_count": 60,
   "metadata": {},
   "outputs": [],
   "source": [
    "#  Define the number of battle rounds\n",
    "n_round = 1000 # 1000 battle rounds"
   ]
  },
  {
   "cell_type": "code",
   "execution_count": 61,
   "metadata": {},
   "outputs": [
    {
     "name": "stdout",
     "output_type": "stream",
     "text": [
      "[[4 5 6]\n",
      " [5 5 5]\n",
      " [2 6 1]\n",
      " ...\n",
      " [2 2 1]\n",
      " [2 3 3]\n",
      " [2 3 5]]\n"
     ]
    }
   ],
   "source": [
    "# simulating risk game play using numpy random numbers generator with  a 6-sided dice round per attack \n",
    "\n",
    "attacker = np.random.randint(1, 7, (n_round, 3))  # number of battle rounds, attacker round 3 dice per attack\n",
    "defender = np.random.randint(1, 7, (n_round, 2))  # number of battle rounds, defender round 2 dice dice per attack\n",
    "print (attacker)"
   ]
  },
  {
   "cell_type": "code",
   "execution_count": 62,
   "metadata": {},
   "outputs": [
    {
     "name": "stdout",
     "output_type": "stream",
     "text": [
      "[[2 3]\n",
      " [6 6]\n",
      " [6 1]\n",
      " ...\n",
      " [4 4]\n",
      " [3 6]\n",
      " [5 1]]\n"
     ]
    }
   ],
   "source": [
    "print (defender)"
   ]
  },
  {
   "cell_type": "code",
   "execution_count": 63,
   "metadata": {},
   "outputs": [
    {
     "name": "stdout",
     "output_type": "stream",
     "text": [
      "[[6 5 4]\n",
      " [5 5 5]\n",
      " [6 2 1]\n",
      " ...\n",
      " [2 2 1]\n",
      " [3 3 2]\n",
      " [5 3 2]]\n"
     ]
    }
   ],
   "source": [
    " #Sort the round in descending order\n",
    "attacker_sorted = np.sort(attacker, axis=1)[:, ::-1]\n",
    "defender_sorted = np.sort(defender, axis=1)[:, ::-1]\n",
    "print (attacker_sorted)"
   ]
  },
  {
   "cell_type": "code",
   "execution_count": 64,
   "metadata": {},
   "outputs": [
    {
     "name": "stdout",
     "output_type": "stream",
     "text": [
      "[[3 2]\n",
      " [6 6]\n",
      " [6 1]\n",
      " ...\n",
      " [4 4]\n",
      " [6 3]\n",
      " [5 1]]\n"
     ]
    }
   ],
   "source": [
    "print (defender_sorted)"
   ]
  },
  {
   "cell_type": "code",
   "execution_count": 65,
   "metadata": {},
   "outputs": [],
   "source": [
    "# Determine loss per round for attacker and defender\n",
    "attacker_losses = 0\n",
    "defender_losses = 0"
   ]
  },
  {
   "cell_type": "code",
   "execution_count": 66,
   "metadata": {},
   "outputs": [],
   "source": [
    "# Loop through each round\n",
    "for i in range(n_round):\n",
    "    # Compare the highest dice roll\n",
    "    if attacker_sorted[i, 0] <= defender_sorted[i, 0]:\n",
    "        attacker_losses += 1\n",
    "    else:\n",
    "        defender_losses += 1\n",
    "        # Compare the second-highest dice roll\n",
    "     \n",
    "    if attacker_sorted[i, 1] <= defender_sorted[i, 1]:\n",
    "           attacker_losses += 1\n",
    "    else:\n",
    "        defender_losses += 1\n"
   ]
  },
  {
   "cell_type": "markdown",
   "metadata": {},
   "source": [
    "## Dice Roll function: The above codes were merged to describe a reusablefunction."
   ]
  },
  {
   "cell_type": "code",
   "execution_count": 67,
   "metadata": {},
   "outputs": [
    {
     "name": "stdout",
     "output_type": "stream",
     "text": [
      "The total number of attacker losses for 1000 rounds is: 929\n",
      "The total number of defender losses for 1000 rounds is: 1071\n"
     ]
    }
   ],
   "source": [
    "# Defining a function for 6-sided dice round Risk Game\n",
    "def dice_round(n_round):\n",
    "    # Simulating risk game play using numpy random numbers generator for a 6-sided dice roll per attack \n",
    "    attacker = np.random.randint(1, 7, (n_round, 3))  # attacker rolls 3 dice per round\n",
    "    defender = np.random.randint(1, 7, (n_round, 2))  # defender rolls 2 dice per round\n",
    "    \n",
    "    # Sort the rolls in descending order\n",
    "    attacker_sorted = np.sort(attacker, axis=1)[:, ::-1]\n",
    "    defender_sorted = np.sort(defender, axis=1)[:, ::-1]\n",
    "    \n",
    "    # Initialize total losses for attacker and defender\n",
    "    attacker_losses = 0\n",
    "    defender_losses = 0\n",
    "\n",
    "    # Lists to track cumulative losses per round\n",
    "    attacker_losses_cumulative = []\n",
    "    defender_losses_cumulative = []\n",
    "\n",
    "    # Loop through each round to determine losses\n",
    "    for i in range(n_round):\n",
    "        # Compare the highest dice roll\n",
    "        if attacker_sorted[i, 0] <= defender_sorted[i, 0]:\n",
    "            attacker_losses += 1\n",
    "        else:\n",
    "            defender_losses += 1\n",
    "\n",
    "        # Compare the second-highest dice roll\n",
    "        if attacker_sorted[i, 1] <= defender_sorted[i, 1]:\n",
    "            attacker_losses += 1\n",
    "        else:\n",
    "            defender_losses += 1\n",
    "\n",
    "        # Record the cumulative losses after each round\n",
    "        attacker_losses_cumulative.append(attacker_losses)\n",
    "        defender_losses_cumulative.append(defender_losses)\n",
    "\n",
    "    # Return the lists of cumulative losses\n",
    "    return attacker_losses_cumulative, defender_losses_cumulative\n",
    "\n",
    "\n",
    "# Call the dice_round function\n",
    "attacker_losses_cumulative, defender_losses_cumulative = dice_round(n_round)\n",
    "\n",
    "# Print total losses after all rounds\n",
    "print(f\"The total number of attacker losses for {n_round} rounds is: {attacker_losses_cumulative[-1]}\")\n",
    "print(f\"The total number of defender losses for {n_round} rounds is: {defender_losses_cumulative[-1]}\")\n",
    "plt.show()\n"
   ]
  },
  {
   "cell_type": "code",
   "execution_count": 68,
   "metadata": {},
   "outputs": [
    {
     "data": {
      "image/png": "[encoded data removed]",
      "text/plain": [
       "<Figure size 1000x600 with 1 Axes>"
      ]
     },
     "metadata": {},
     "output_type": "display_data"
    }
   ],
   "source": [
    "# Plotting the attacker losses vs defender losses through the rounds\n",
    "\n",
    "plt.figure(figsize=(10, 6))\n",
    "plt.plot(attacker_losses_cumulative, label=\"Attacker Losses\", color='red')\n",
    "plt.plot(defender_losses_cumulative, label=\"Defender Losses\", color='blue')\n",
    "plt.xlabel(\"Rounds\")\n",
    "plt.ylabel(\"Cumulative Losses\")\n",
    "plt.title(f\"Cumulative Losses for {n_round} Rounds\")\n",
    "plt.legend()\n",
    "plt.grid(True)"
   ]
  },
  {
   "cell_type": "markdown",
   "metadata": {},
   "source": [
    "## ? Add pie chart and percentage losses"
   ]
  },
  {
   "cell_type": "markdown",
   "metadata": {},
   "source": [
    "## modify code to reflect\n",
    "A more complicated version simulates a full series of rounds for armies of arbitrary sizes, until one side is wiped out,\n",
    "\n",
    "and plots the results."
   ]
  },
  {
   "cell_type": "markdown",
   "metadata": {},
   "source": [
    "## References\n",
    "- https://numpy.org/doc/stable/user/absolute_beginners.html\n",
    "- https://www.w3schools.com/python/numpy/numpy_random.asp\n",
    "- https://prepfortech.io/leetcode-solutions/dice-roll-simulation\n",
    "- https://thepythoncodingbook.com/2022/12/30/using-python-numpy-to-improve-board-game-strategy-risk/\n",
    "- https://datascienceparichay.com/article/sort-numpy-array-in-descending-order/\n",
    "- https://sqlpey.com/python/numpy-array-sorting/\n",
    "- https://numpy.org/doc/stable/reference/generated/numpy.ndarray.sort.html"
   ]
  }
 ],
 "metadata": {
  "kernelspec": {
   "display_name": "Python 3",
   "language": "python",
   "name": "python3"
  },
  "language_info": {
   "codemirror_mode": {
    "name": "ipython",
    "version": 3
   },
   "file_extension": ".py",
   "mimetype": "text/x-python",
   "name": "python",
   "nbconvert_exporter": "python",
   "pygments_lexer": "ipython3",
   "version": "3.11.5"
  }
 },
 "nbformat": 4,
 "nbformat_minor": 2
}
