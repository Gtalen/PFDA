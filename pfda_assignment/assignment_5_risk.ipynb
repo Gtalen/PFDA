{
 "cells": [
  {
   "cell_type": "code",
   "execution_count": 1,
   "metadata": {},
   "outputs": [],
   "source": [
    "# Importing the necessary libraries\n",
    "import numpy as np\n",
    "import matplotlib.pyplot as plt\n",
    "import seaborn as sns\n",
    "import warnings    # importing python warning module\n",
    "sns.set_theme()            #setting seaborn as default style for plots when using matplotlib"
   ]
  },
  {
   "cell_type": "markdown",
   "metadata": {},
   "source": [
    "# Assignment 5 \n",
    "## Risk\n",
    "\n",
    "Write a program (or notebook) called assignment_5_risk (.py or .ipynb)\n",
    "\n",
    "The program should simulates 1000 individual battle rounds in Risk (3 attacker vs 2 defender) and plots the result.\n",
    "\n",
    "One battle round is one shake of the attacker and defender dice.\n",
    "\n",
    "I am being vague about what it plot, I will leave that to you.\n",
    "\n",
    "For the last few marks.\n",
    "\n",
    "A more complicated version simulates a full series of rounds for armies of arbitrary sizes, until one side is wiped out,\n",
    "\n",
    "and plots the results.\n",
    "\n",
    "(This is open ended, so it is only for the last few marks)"
   ]
  },
  {
   "cell_type": "markdown",
   "metadata": {
    "vscode": {
     "languageId": "plaintext"
    }
   },
   "source": [
    "## Risk Strategy notes\n",
    "- Mission: To conquer all the territories\n",
    "- Players: Army A (Attacker) vs Army B\n",
    "- Dice: 6 sided dice\n",
    "- One round: Attacker rolls the dice 3 times and the defender rolls the dice 2 times.\n",
    "- Dice compared per round: \n",
    "  - Total dice rolled (5): Sum of attacker (3) vs defenders (2) dice rolled\n",
    "   - Sort all 5 dice rolled from highest to lowest (descending order)\n",
    "   - Compare attackers highest 2 dice rolls vs defenders 2 dice rolls\n",
    "- Winning Rules:\n",
    " 1. Compare the highest dice first and determine winner for the first dice;\n",
    "   - Attacker loses one troop when each dice roll is ≤ defenders dice roll. \n",
    "   - Defender loses one troop when attackers dice roll is > defenders\n",
    " 2. Compare the second highest dice next and determine winner for the second dice: \n",
    "  - Attacker loses one troop when each dice roll is ≤ defenders dice roll. \n",
    "  - Defender loses one troop when attackers dice roll is > defenders\n",
    "= Task: Simulate 1000 individual battle rounds in Risk (3 attacker vs 2 defender) and plot the result.\n",
    "\n",
    "         \n",
    "\n"
   ]
  },
  {
   "cell_type": "markdown",
   "metadata": {},
   "source": [
    "## Simulating the risk game battle approach\n",
    "A combination of codes and functions were utilized to handle this task and the steps involved in building up this function are in the cells below. This approach was used to offer simplicity and easy debugging of the codes when run in simpler blocks before integrating all into a function. The aricle by Stephen Gruppetta on using Python’s NumPy To Improve Your Board Game Strategy: Your Odds When Attacking in ‘Risk’ was very helpful in tackling this assignment and it can be found [here](https://thepythoncodingbook.com/2022/12/30/using-python-numpy-to-improve-board-game-strategy-risk/)"
   ]
  },
  {
   "cell_type": "code",
   "execution_count": 2,
   "metadata": {},
   "outputs": [],
   "source": [
    "# Define the number of battle rounds\n",
    "n_rolls = 1000 # 1000 battle rounds"
   ]
  },
  {
   "cell_type": "code",
   "execution_count": 3,
   "metadata": {},
   "outputs": [],
   "source": [
    "# Defining a function for 6-sided dice rolls Risk Game\n",
    "def dice_rolls():\n",
    "\n",
    "    # simulating risk game play using numpy random numbers generator with  a 6-sided dice rolls per attack \n",
    "    attacker = np.random.randint(1, 7, (n_rolls, 3))  # number of battle rounds, attacker rolls 3 dice per attack\n",
    "    defender = np.random.randint(1, 7, (n_rolls, 2))  # number of battle rounds, defender rolls 2 dice dice per attack\n",
    "\n",
    "    #Sort the rolls in descending order\n",
    "    attacker_sorted = np.sort(attacker, axis=1)[:, ::-1]\n",
    "    defender_sorted = np.sort(defender, axis=1)[:, ::-1]\n",
    "\n",
    "    \n",
    "\n"
   ]
  },
  {
   "cell_type": "code",
   "execution_count": 4,
   "metadata": {},
   "outputs": [],
   "source": [
    "#  Define the number of battle rounds\n",
    "n_rolls = 1000 # 1000 battle rounds"
   ]
  },
  {
   "cell_type": "code",
   "execution_count": 5,
   "metadata": {},
   "outputs": [
    {
     "name": "stdout",
     "output_type": "stream",
     "text": [
      "[[1 2 4]\n",
      " [4 2 3]\n",
      " [5 4 4]\n",
      " ...\n",
      " [5 1 6]\n",
      " [3 3 2]\n",
      " [1 1 6]]\n"
     ]
    }
   ],
   "source": [
    "# simulating risk game play using numpy random numbers generator with  a 6-sided dice rolls per attack \n",
    "\n",
    "attacker = np.random.randint(1, 7, (n_rolls, 3))  # number of battle rounds, attacker rolls 3 dice per attack\n",
    "defender = np.random.randint(1, 7, (n_rolls, 2))  # number of battle rounds, defender rolls 2 dice dice per attack\n",
    "print (attacker)"
   ]
  },
  {
   "cell_type": "code",
   "execution_count": 6,
   "metadata": {},
   "outputs": [
    {
     "name": "stdout",
     "output_type": "stream",
     "text": [
      "[[2 6]\n",
      " [1 2]\n",
      " [3 6]\n",
      " ...\n",
      " [3 6]\n",
      " [1 3]\n",
      " [3 5]]\n"
     ]
    }
   ],
   "source": [
    "print (defender)"
   ]
  },
  {
   "cell_type": "code",
   "execution_count": 7,
   "metadata": {},
   "outputs": [
    {
     "name": "stdout",
     "output_type": "stream",
     "text": [
      "[[4 2 1]\n",
      " [4 3 2]\n",
      " [5 4 4]\n",
      " ...\n",
      " [6 5 1]\n",
      " [3 3 2]\n",
      " [6 1 1]]\n"
     ]
    }
   ],
   "source": [
    " #Sort the rolls in descending order\n",
    "attacker_sorted = np.sort(attacker, axis=1)[:, ::-1]\n",
    "defender_sorted = np.sort(defender, axis=1)[:, ::-1]\n",
    "print (attacker_sorted)"
   ]
  },
  {
   "cell_type": "code",
   "execution_count": 8,
   "metadata": {},
   "outputs": [
    {
     "name": "stdout",
     "output_type": "stream",
     "text": [
      "[[6 2]\n",
      " [2 1]\n",
      " [6 3]\n",
      " ...\n",
      " [6 3]\n",
      " [3 1]\n",
      " [5 3]]\n"
     ]
    }
   ],
   "source": [
    "print (defender_sorted)"
   ]
  },
  {
   "cell_type": "code",
   "execution_count": null,
   "metadata": {},
   "outputs": [],
   "source": []
  },
  {
   "cell_type": "code",
   "execution_count": null,
   "metadata": {},
   "outputs": [],
   "source": [
    "\n"
   ]
  },
  {
   "cell_type": "code",
   "execution_count": null,
   "metadata": {},
   "outputs": [],
   "source": []
  },
  {
   "cell_type": "code",
   "execution_count": null,
   "metadata": {},
   "outputs": [],
   "source": []
  },
  {
   "cell_type": "code",
   "execution_count": 9,
   "metadata": {},
   "outputs": [],
   "source": [
    "\n",
    "\n",
    "\n",
    "# Defining a function for 6-sided dice rolls per attack\n",
    "def dice_rolls():\n",
    "    attacker = np.random.randint(1, 7, 3)  # Attacker rolls 3 dice\n",
    "    defender = np.random.randint(1, 7, 2)  # Defender rolls 2 dice\n",
    "    \n",
    "    # Sort the rolls in descending order\n",
    "    attacker_sorted = np.sort(attacker)[::-1]\n",
    "    defender_sorted = np.sort(defender)[::-1]\n",
    "    \n",
    "    return attacker_sorted, defender_sorted"
   ]
  },
  {
   "cell_type": "code",
   "execution_count": 10,
   "metadata": {},
   "outputs": [],
   "source": [
    "# Removing the unused dice rolls from the attacker to equate defenders' dice roll\n",
    "\n"
   ]
  },
  {
   "cell_type": "code",
   "execution_count": null,
   "metadata": {},
   "outputs": [],
   "source": []
  },
  {
   "cell_type": "code",
   "execution_count": null,
   "metadata": {},
   "outputs": [],
   "source": []
  },
  {
   "cell_type": "code",
   "execution_count": null,
   "metadata": {},
   "outputs": [],
   "source": []
  },
  {
   "cell_type": "code",
   "execution_count": 11,
   "metadata": {},
   "outputs": [
    {
     "ename": "NameError",
     "evalue": "name 'arr' is not defined",
     "output_type": "error",
     "traceback": [
      "\u001b[1;31m---------------------------------------------------------------------------\u001b[0m",
      "\u001b[1;31mNameError\u001b[0m                                 Traceback (most recent call last)",
      "Cell \u001b[1;32mIn[11], line 7\u001b[0m\n\u001b[0;32m      5\u001b[0m     defender_sorted \u001b[38;5;241m=\u001b[39m \u001b[38;5;28msorted\u001b[39m(defender, reverse\u001b[38;5;241m=\u001b[39m\u001b[38;5;28;01mTrue\u001b[39;00m)\n\u001b[0;32m      6\u001b[0m     \u001b[38;5;28;01mreturn\u001b[39;00m attacker_sorted, defender_sorted\n\u001b[1;32m----> 7\u001b[0m sorted_desc \u001b[38;5;241m=\u001b[39m np\u001b[38;5;241m.\u001b[39msort(arr)[::\u001b[38;5;241m-\u001b[39m\u001b[38;5;241m1\u001b[39m]\n",
      "\u001b[1;31mNameError\u001b[0m: name 'arr' is not defined"
     ]
    }
   ],
   "source": [
    "\n",
    "def dice_rolls():\n",
    "    attacker = np.random.randint(1, 7, 3) # generates a random integer in the range of 1 to 6, attacker rolls 3 times\n",
    "    defender = np.random.randint(1, 7, 2) # generates a random integer in the range of 1 to 6, defender rolls 2 times\n",
    "    attacker_sorted = sorted(attacker, reverse=True)  # reverse=true converts this to a python slicing function\n",
    "    defender_sorted = sorted(defender, reverse=True)\n",
    "    return attacker_sorted, defender_sorted\n",
    "sorted_desc = np.sort(arr)[::-1] \n",
    "\n"
   ]
  },
  {
   "cell_type": "code",
   "execution_count": null,
   "metadata": {},
   "outputs": [],
   "source": [
    "# number of rolls\n",
    "n = 1000"
   ]
  },
  {
   "cell_type": "code",
   "execution_count": null,
   "metadata": {},
   "outputs": [],
   "source": [
    "# number of rolls\n",
    "n = 1000"
   ]
  },
  {
   "cell_type": "code",
   "execution_count": null,
   "metadata": {},
   "outputs": [],
   "source": []
  },
  {
   "cell_type": "code",
   "execution_count": null,
   "metadata": {},
   "outputs": [],
   "source": []
  },
  {
   "cell_type": "code",
   "execution_count": null,
   "metadata": {},
   "outputs": [],
   "source": []
  },
  {
   "cell_type": "code",
   "execution_count": null,
   "metadata": {},
   "outputs": [],
   "source": []
  },
  {
   "cell_type": "markdown",
   "metadata": {},
   "source": [
    "## References\n",
    "- https://www.w3schools.com/python/numpy/numpy_random.asp\n",
    "- https://prepfortech.io/leetcode-solutions/dice-roll-simulation\n",
    "- https://thepythoncodingbook.com/2022/12/30/using-python-numpy-to-improve-board-game-strategy-risk/\n",
    "- https://datascienceparichay.com/article/sort-numpy-array-in-descending-order/\n",
    "- https://sqlpey.com/python/numpy-array-sorting/\n",
    "- https://numpy.org/doc/stable/reference/generated/numpy.ndarray.sort.html"
   ]
  }
 ],
 "metadata": {
  "kernelspec": {
   "display_name": "Python 3",
   "language": "python",
   "name": "python3"
  },
  "language_info": {
   "codemirror_mode": {
    "name": "ipython",
    "version": 3
   },
   "file_extension": ".py",
   "mimetype": "text/x-python",
   "name": "python",
   "nbconvert_exporter": "python",
   "pygments_lexer": "ipython3",
   "version": "3.11.5"
  }
 },
 "nbformat": 4,
 "nbformat_minor": 2
}
